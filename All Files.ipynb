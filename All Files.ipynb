{
 "cells": [
  {
   "cell_type": "raw",
   "id": "6a3aa9e2-99b1-436e-a2e7-b856b47dc079",
   "metadata": {},
   "source": [
    "# 1.Ceaser Cipher\n",
    "# 1.2 Additive Cipher\n",
    "# 2.Multiplicative Cipher\n",
    "# 3.Affine Cipher\n",
    "# 4.Playfair Cipher\n",
    "# 5.Vigenere Cipher\n",
    "\n",
    "# 6.DES Algo\n",
    "# 7.AES Algo\n",
    "# 8.RSA Algo\n",
    "# 9.ElGlamal Cryptography\n",
    "# 10.Rabin Cryptography\n",
    "\n",
    "# 11. Hill Cipher\n",
    "# 12. Keyless Trasposition\n",
    "# 13. Autokey Cipher"
   ]
  },
  {
   "cell_type": "markdown",
   "id": "9608bdb8-e0e1-4360-bd19-a3302b889edb",
   "metadata": {},
   "source": [
    "# 1. Ceaser"
   ]
  },
  {
   "cell_type": "code",
   "execution_count": 1,
   "id": "a6d62d67-b362-4c3c-90f2-8b9894ca4712",
   "metadata": {},
   "outputs": [],
   "source": [
    "#Encryption Function\n",
    "def encrypt(plaintext,key):\n",
    "    plaintext = plaintext.upper()\n",
    "    ciphertext = \"\"\n",
    "    for i in range(len(plaintext)):\n",
    "        char = plaintext[i]\n",
    "        if char == ' ':\n",
    "            shifted_char = char\n",
    "        else:\n",
    "            shifted_char = chr((ord(char) - 65 + key) % 26)\n",
    "            shifted_char = chr(ord(shifted_char) + 65)\n",
    "        ciphertext = ciphertext + shifted_char\n",
    "    return ciphertext"
   ]
  },
  {
   "cell_type": "code",
   "execution_count": 2,
   "id": "8eb8f776-9d18-4e89-8fdd-61775cc77d5f",
   "metadata": {},
   "outputs": [],
   "source": [
    "#Decryption Function\n",
    "def decrypt(ciphertext,key):\n",
    "    ciphertext = ciphertext.lower()\n",
    "    decrypted_text = \"\"\n",
    "    for i in range(len(ciphertext)):\n",
    "        char = ciphertext[i]\n",
    "        if char == ' ':\n",
    "            shifted_char = char\n",
    "        else:\n",
    "            shifted_char = chr((ord(char) - 97 - key) % 26)\n",
    "            shifted_char = chr(ord(shifted_char) + 97)\n",
    "        decrypted_text = decrypted_text + shifted_char\n",
    "    return decrypted_text"
   ]
  },
  {
   "cell_type": "code",
   "execution_count": 3,
   "id": "b08fd83a-9ce3-4f48-8427-cb3d8995768b",
   "metadata": {},
   "outputs": [
    {
     "name": "stdin",
     "output_type": "stream",
     "text": [
      "Enter the plaintext:  Shehad\n"
     ]
    },
    {
     "name": "stdout",
     "output_type": "stream",
     "text": [
      "Entered plaintext = Shehad\n"
     ]
    },
    {
     "name": "stdin",
     "output_type": "stream",
     "text": [
      "Enter the key:  3\n"
     ]
    },
    {
     "name": "stdout",
     "output_type": "stream",
     "text": [
      "Entered key = 3\n",
      "Ciphertext = VKHKDG\n",
      "Decrypted text = shehad\n"
     ]
    }
   ],
   "source": [
    "#Input\n",
    "plaintext = input(\"Enter the plaintext: \")\n",
    "print(\"Entered plaintext = \" + plaintext)\n",
    "key = int(input(\"Enter the key: \"))\n",
    "print(\"Entered key = \" + str(key))\n",
    "#Output\n",
    "ciphertext = encrypt(plaintext, key)\n",
    "print(\"Ciphertext = \" + ciphertext)\n",
    "decrypted_text = decrypt(ciphertext, key)\n",
    "print(\"Decrypted text = \" + decrypted_text)"
   ]
  },
  {
   "cell_type": "markdown",
   "id": "b706909e-0de3-45a2-9178-50066bf405ba",
   "metadata": {},
   "source": [
    "# 1.2 Additive Cipher"
   ]
  },
  {
   "cell_type": "code",
   "execution_count": 73,
   "id": "47ef58b1-f204-49e7-8e5c-065bae5cd4fc",
   "metadata": {},
   "outputs": [],
   "source": [
    "#Encryption Function\n",
    "def encryption(plaintext, key):\n",
    "    text = plaintext.lower()\n",
    "    #Range of lowercase letter is 97 to 122\n",
    "    ciphertext = \"\"\n",
    "    for char in text:\n",
    "        order = ord(char)\n",
    "        if order >= 97 and order <= 122:\n",
    "            order = order - 97\n",
    "            order = (order + key) % 26\n",
    "            order = order + 97\n",
    "            new_char = chr(order)\n",
    "            ciphertext = ciphertext + new_char\n",
    "        else:\n",
    "            ciphertext = ciphertext + char\n",
    "    return ciphertext"
   ]
  },
  {
   "cell_type": "code",
   "execution_count": 74,
   "id": "c5b2e65e-2912-481c-9a47-bf21a33cdadb",
   "metadata": {},
   "outputs": [],
   "source": [
    "#Decryption Function\n",
    "def decryption(ciphertext, key):\n",
    "    text = ciphertext.upper()\n",
    "    #Range of uppercase letter is 65 to 90\n",
    "    plaintext = \"\"\n",
    "    for char in text:\n",
    "        order = ord(char)\n",
    "        if order >= 65 and order <= 90:\n",
    "            order = order - 65\n",
    "            order = (order - key) % 26\n",
    "            order = order + 65\n",
    "            new_char = chr(order)\n",
    "            plaintext = plaintext + new_char\n",
    "        else:\n",
    "            plaintext = plaintext + char\n",
    "    return plaintext"
   ]
  },
  {
   "cell_type": "code",
   "execution_count": 75,
   "id": "3c5afa66-c4b2-4ae3-b171-457a28158632",
   "metadata": {},
   "outputs": [
    {
     "name": "stdin",
     "output_type": "stream",
     "text": [
      "Enter the plaintext:  Cryptography And Information Security\n",
      "Enter the key:  13\n"
     ]
    },
    {
     "name": "stdout",
     "output_type": "stream",
     "text": [
      "Given plaintext:  Cryptography And Information Security\n",
      "Entered key :  13\n",
      "Ciphertext:  pelcgbtencul naq vasbezngvba frphevgl\n",
      "Decrypted plaintext:  CRYPTOGRAPHY AND INFORMATION SECURITY\n"
     ]
    }
   ],
   "source": [
    "#Input Section\n",
    "plaintext = input(\"Enter the plaintext: \")\n",
    "key = int(input(\"Enter the key: \"))\n",
    "\n",
    "#Function Calling\n",
    "ciphertext = encryption(plaintext, key)\n",
    "decrypted_text = decryption(ciphertext, key)\n",
    "\n",
    "#Output Section\n",
    "print(\"Given plaintext: \", plaintext)\n",
    "print(\"Entered key : \", key)\n",
    "print(\"Ciphertext: \", ciphertext)\n",
    "print(\"Decrypted plaintext: \", decrypted_text)"
   ]
  },
  {
   "cell_type": "markdown",
   "id": "4a0d75b5-7717-49b5-a608-f9339bc40e3c",
   "metadata": {},
   "source": [
    "# 2. Multiplicative"
   ]
  },
  {
   "cell_type": "code",
   "execution_count": 4,
   "id": "50c8d9dd-3080-4f3c-bd8d-593cea0421e7",
   "metadata": {},
   "outputs": [],
   "source": [
    "#Encryption Function\n",
    "def encryption(plaintext, key):\n",
    "    text = plaintext.lower()\n",
    "    ciphertext = \"\"\n",
    "    for char in text:\n",
    "        order = ord(char)\n",
    "        #Range of lowercase letter is 97 to 122\n",
    "        if order>= 97 and order<=122:\n",
    "            order = order - 97\n",
    "            order = (order * key) % 26\n",
    "            order = order + 97\n",
    "            new_char = chr(order)\n",
    "            ciphertext = ciphertext + new_char\n",
    "        else:\n",
    "            ciphertext = ciphertext + char\n",
    "    return ciphertext"
   ]
  },
  {
   "cell_type": "code",
   "execution_count": 5,
   "id": "3092dca5-c127-45ca-90c9-873911dbfa46",
   "metadata": {},
   "outputs": [],
   "source": [
    "#Decryption Function\n",
    "def decryption(ciphertext, key):\n",
    "    text = ciphertext.upper()\n",
    "    #finding multiplicative inverse of the key\n",
    "    key_inv = pow(key, -1, 26)\n",
    "    plaintext = \"\"\n",
    "    for char in text:\n",
    "        order = ord(char)\n",
    "        #Range of uppercase letter is 65 to 90\n",
    "        if order>= 65 and order<=90:\n",
    "            order = order - 65\n",
    "            order = (order * key_inv) % 26\n",
    "            order = order + 65\n",
    "            new_char = chr(order)\n",
    "            plaintext = plaintext + new_char\n",
    "        else:\n",
    "            plaintext = plaintext + char\n",
    "    return plaintext"
   ]
  },
  {
   "cell_type": "code",
   "execution_count": 6,
   "id": "bf7e2aed-3cf2-4e60-b99d-1f731c947600",
   "metadata": {},
   "outputs": [
    {
     "name": "stdin",
     "output_type": "stream",
     "text": [
      "Enter the plaintext:  Shehad\n",
      "Enter the key:  3\n"
     ]
    },
    {
     "name": "stdout",
     "output_type": "stream",
     "text": [
      "Entered plaintext :  Shehad\n",
      "Entered key : \n",
      "Cipher text:  cvmvaj\n",
      "Decrypted plaintext:  SHEHAD\n"
     ]
    }
   ],
   "source": [
    "#Input Section\n",
    "plaintext = input(\"Enter the plaintext: \")\n",
    "key = int(input(\"Enter the key: \"))\n",
    "\n",
    "#Function Calling\n",
    "ciphertext = encryption(plaintext, key)\n",
    "decrypted_text = decryption(ciphertext, key)\n",
    "\n",
    "#Output Section\n",
    "print(\"Entered plaintext : \", plaintext)\n",
    "print(\"Entered key : \")\n",
    "print(\"Cipher text: \", ciphertext)\n",
    "print(\"Decrypted plaintext: \", decrypted_text)"
   ]
  },
  {
   "cell_type": "markdown",
   "id": "b5f50307-65d6-4556-ab65-10151c339eac",
   "metadata": {},
   "source": [
    "# 3. Affine Cipher"
   ]
  },
  {
   "cell_type": "code",
   "execution_count": 7,
   "id": "45e8cb37-84b6-47af-8225-7fb3c10c03dc",
   "metadata": {},
   "outputs": [],
   "source": [
    "#Encryption Function\n",
    "def encryption(plaintext, key1, key2):\n",
    "    text = plaintext\n",
    "    ciphertext = \"\"\n",
    "    for char in text:\n",
    "        #Change only the alphabets\n",
    "        if char.isalpha():\n",
    "            order = ord(char)\n",
    "            #Range for lowercase letter is 97 to 122\n",
    "            if char.islower():\n",
    "                order = order - 97\n",
    "                order = ((order * key1) + key2) % 26\n",
    "                order = order + 97\n",
    "                new_char = chr(order)\n",
    "                ciphertext = ciphertext + new_char\n",
    "            #Range for uppercase letter is 65 to 90\n",
    "            if char.isupper():\n",
    "                order = order - 65\n",
    "                order = ((order * key1) + key2) % 26\n",
    "                order = order + 65\n",
    "                new_char = chr(order)\n",
    "                ciphertext = ciphertext + new_char\n",
    "        #Keep other characters same as it\n",
    "        else :\n",
    "            ciphertext = ciphertext + char\n",
    "    return ciphertext"
   ]
  },
  {
   "cell_type": "code",
   "execution_count": 8,
   "id": "bc8e355a-a5d4-42c3-b0f2-888e26574cee",
   "metadata": {},
   "outputs": [],
   "source": [
    "#Decrption Function\n",
    "def decryption(ciphertext, key1, key2):\n",
    "    text = ciphertext\n",
    "    key1_inv = pow(key1, -1, 26) #finding the inverse of key1 mod 26 using built in python function\n",
    "    plaintext = \"\"\n",
    "    for char in text:\n",
    "        if char.isalpha(): #Change only the alphabets\n",
    "            order = ord(char)\n",
    "            #Range for lowercase letter is 97 to 122\n",
    "            if char.islower():\n",
    "                order = order - 97\n",
    "                order = ((order - key2) * key1_inv) % 26\n",
    "                order = order + 97\n",
    "                new_char = chr(order)\n",
    "                plaintext = plaintext + new_char\n",
    "            #Range for uppercase letter is 65 to 90\n",
    "            if char.isupper():\n",
    "                order = order - 65\n",
    "                order = ((order - key2) * key1_inv) % 26\n",
    "                order = order + 65\n",
    "                new_char = chr(order)\n",
    "                plaintext = plaintext + new_char\n",
    "        #Keep other characters same as it\n",
    "        else :\n",
    "            plaintext = plaintext + char \n",
    "\n",
    "    return plaintext, key1_inv"
   ]
  },
  {
   "cell_type": "code",
   "execution_count": 9,
   "id": "147da69b-c087-404d-9f5d-ae77fe54e9ce",
   "metadata": {},
   "outputs": [
    {
     "name": "stdin",
     "output_type": "stream",
     "text": [
      "Enter the plaintext:  Shehad\n",
      "Enter the first key:  5\n",
      "Enter the second key :  3\n"
     ]
    },
    {
     "name": "stdout",
     "output_type": "stream",
     "text": [
      "Entered plaintext:  Shehad\n",
      "Entered keys are: \n",
      "key1 =  5 \n",
      "key2 =  3\n",
      "Ciphertext :  Pmxmds\n",
      "Inverse value of key1:  21\n",
      "Decrypted text :  Shehad\n"
     ]
    }
   ],
   "source": [
    "#Input section\n",
    "plaintext = input(\"Enter the plaintext: \")\n",
    "key1 = int(input(\"Enter the first key: \"))\n",
    "key2 = int(input(\"Enter the second key : \"))\n",
    "\n",
    "#Function calling\n",
    "ciphertext = encryption(plaintext, key1, key2)\n",
    "decrypted_text, inv = decryption(ciphertext, key1, key2)\n",
    "\n",
    "#Output Section\n",
    "print(\"Entered plaintext: \", plaintext)\n",
    "print(\"Entered keys are: \\nkey1 = \", key1, \"\\nkey2 = \", key2)\n",
    "print(\"Ciphertext : \", ciphertext)\n",
    "print(\"Inverse value of key1: \", inv)\n",
    "print(\"Decrypted text : \", decrypted_text)"
   ]
  },
  {
   "cell_type": "markdown",
   "id": "2672d7d2-f214-4b87-9d18-73b9ac3c0e92",
   "metadata": {},
   "source": [
    "# 4. Playfair Cipher"
   ]
  },
  {
   "cell_type": "code",
   "execution_count": 10,
   "id": "6652f25b-f7e7-4afe-a111-0fe2cbd29f97",
   "metadata": {},
   "outputs": [],
   "source": [
    "import numpy as np\n",
    "#Declaring the 5*5 key matrix\n",
    "key_matrix = np.array(\n",
    "    [\n",
    "        ['L', 'G', 'D', 'B', 'A'],\n",
    "        ['Q', 'M', 'H', 'E', 'C'],\n",
    "        ['U', 'R', 'N', 'J', 'F'],\n",
    "        ['X', 'V', 'S', 'O', 'K'],\n",
    "        ['Z', 'Y', 'W', 'T', 'P']\n",
    "    ]\n",
    ")\n",
    "#Creating transpose matrix of the key matrix\n",
    "transpose_key_matrix = np.transpose(key_matrix)"
   ]
  },
  {
   "cell_type": "code",
   "execution_count": 11,
   "id": "b45d311d-deda-4eb0-8015-66e3a716d408",
   "metadata": {},
   "outputs": [
    {
     "name": "stdin",
     "output_type": "stream",
     "text": [
      "Enter the plaintext:  Cryptography\n"
     ]
    },
    {
     "name": "stdout",
     "output_type": "stream",
     "text": [
      "Given Plaintext:  Cryptography\n",
      "Pairs of plaintext : ['CR', 'YP', 'TO', 'GR', 'AP', 'HY']\n"
     ]
    }
   ],
   "source": [
    "#Input Section\n",
    "plaintext = input(\"Enter the plaintext: \")\n",
    "print(\"Given Plaintext: \", plaintext)\n",
    "#Removing all the whitespaces from the plaintext\n",
    "text = plaintext.replace(\" \",\"\")\n",
    "text_len = len(text)\n",
    "text = text.upper()\n",
    "#Replace all \"I\" in the plaintext to \"j\"\n",
    "text = text.replace(\"I\", \"J\")\n",
    "\n",
    "\n",
    "#Make pair of two(different) characters from plaintext\n",
    "plaintextpair = []\n",
    "i = 0\n",
    "while i < text_len:\n",
    "    char1 = text[i]\n",
    "    char2 = \"\"\n",
    "    #If the letter is the last character of the plaintext add a vogus character \"X\"\n",
    "    if (i+1) == len(text):\n",
    "        char2 = \"X\"\n",
    "    #Else add the next character\n",
    "    else:\n",
    "        char2 = text[i+1]\n",
    "    #If the two characters are different insert them in the pair\n",
    "    if char1 != char2:\n",
    "        plaintextpair.append(char1+char2)\n",
    "        i = i+2\n",
    "    #else add \"X\" as the second character\n",
    "    else:\n",
    "        plaintextpair.append(char1+\"X\")\n",
    "        i = i + 1\n",
    "print(\"Pairs of plaintext :\", plaintextpair)"
   ]
  },
  {
   "cell_type": "code",
   "execution_count": 12,
   "id": "78801f2d-10c1-4784-9345-26b612c764a2",
   "metadata": {},
   "outputs": [
    {
     "name": "stdout",
     "output_type": "stream",
     "text": [
      "Ciphertext:  MFWZBTMVCAMW\n"
     ]
    }
   ],
   "source": [
    "#Encryption Function\n",
    "ciphertext = \"\"\n",
    "ciphertextpair = []\n",
    "for pair in plaintextpair:\n",
    "    apply_rule = True\n",
    "    #Rule 1: If the two characters are in the same row replace them with their right charater\n",
    "    if apply_rule :\n",
    "        for row in range(5):\n",
    "            if pair[0] in key_matrix[row] and pair[1] in key_matrix[row]:\n",
    "                for i in range(5):\n",
    "                    if key_matrix[row][i]==pair[0]:\n",
    "                        char1 = key_matrix[row][(i+1)%5]\n",
    "                    elif key_matrix[row][i]==pair[1]:\n",
    "                        char2 = key_matrix[row][(i+1)%5]\n",
    "                apply_rule = False\n",
    "                ciphertextpair.append(char1+char2)\n",
    "                ciphertext = ciphertext + char1 + char2\n",
    "\n",
    "    #Rule 2: If the two characters are in the same column replace them with their below character\n",
    "    #for this we will use transpose matrix\n",
    "    if apply_rule :\n",
    "        for column in range(5):\n",
    "            if pair[0] in transpose_key_matrix[column] and pair[1] in transpose_key_matrix[column]:\n",
    "                for i in range(5):\n",
    "                    if transpose_key_matrix[column][i]==pair[0]:\n",
    "                        char1 = transpose_key_matrix[column][(i+1)%5]\n",
    "                    elif transpose_key_matrix[column][i]==pair[1]:\n",
    "                        char2 = transpose_key_matrix[column][(i+1)%5]\n",
    "                apply_rule = False\n",
    "                ciphertextpair.append(char1+char2)\n",
    "                ciphertext = ciphertext + char1 + char2\n",
    "                \n",
    "    #Rule 3: If the two letters are not in the same row or column,replace them with letter\n",
    "    # that is in its own row but in the same column as the other letter.\n",
    "    if apply_rule :\n",
    "        for row in range (5):\n",
    "            for column in range (5):\n",
    "                if key_matrix[row][column] == pair[0]:\n",
    "                    x0 = row\n",
    "                    y0 = column\n",
    "                elif key_matrix[row][column] == pair[1]:\n",
    "                    x1 = row\n",
    "                    y1 = column\n",
    "        char1 = key_matrix[x0][y1]\n",
    "        char2 = key_matrix[x1][y0]\n",
    "        ciphertextpair.append(char1+char2)\n",
    "        ciphertext = ciphertext + char1 + char2\n",
    "print(\"Ciphertext: \", ciphertext)"
   ]
  },
  {
   "cell_type": "code",
   "execution_count": 13,
   "id": "42e7559b-7a44-46ea-a060-0e09efd65cc3",
   "metadata": {},
   "outputs": [
    {
     "name": "stdout",
     "output_type": "stream",
     "text": [
      "Decrypted text:  cryptography\n"
     ]
    }
   ],
   "source": [
    "#Decryption Function\n",
    "decryptedtext = \"\"\n",
    "for pair in ciphertextpair:\n",
    "    apply_rule = True\n",
    "    #Rule 1: If the two characters are in the same row replace them with their left charater\n",
    "    if apply_rule :\n",
    "        for row in range(5):\n",
    "            if pair[0] in key_matrix[row] and pair[1] in key_matrix[row]:\n",
    "                for i in range(5):\n",
    "                    if key_matrix[row][i]==pair[0]:\n",
    "                        char1 = key_matrix[row][(i-1)%5]\n",
    "                    elif key_matrix[row][i]==pair[1]:\n",
    "                        char2 = key_matrix[row][(i-1)%5]\n",
    "                apply_rule = False\n",
    "                decryptedtext = decryptedtext + char1 + char2\n",
    "\n",
    "    #Rule 2: If the two characters are in the same column replace them with their upper character\n",
    "    #for this we will use transpose matrix\n",
    "    if apply_rule :\n",
    "        for column in range(5):\n",
    "            if pair[0] in transpose_key_matrix[column] and pair[1] in transpose_key_matrix[column]:\n",
    "                for i in range(5):\n",
    "                    if transpose_key_matrix[column][i]==pair[0]:\n",
    "                        char1 = transpose_key_matrix[column][(i-1)%5]\n",
    "                    elif transpose_key_matrix[column][i]==pair[1]:\n",
    "                        char2 = transpose_key_matrix[column][(i-1)%5]\n",
    "                apply_rule = False\n",
    "                decryptedtext = decryptedtext + char1 + char2\n",
    "                \n",
    "    #Rule 3: If the two letters are not in the same row or column,replace them with letter\n",
    "    # that is in its own row but in the same column as the other letter.\n",
    "    if apply_rule :\n",
    "        for row in range (5):\n",
    "            for column in range (5):\n",
    "                if key_matrix[row][column] == pair[0]:\n",
    "                    x0 = row\n",
    "                    y0 = column\n",
    "                elif key_matrix[row][column] == pair[1]:\n",
    "                    x1 = row\n",
    "                    y1 = column\n",
    "        char1 = key_matrix[x0][y1]\n",
    "        char2 = key_matrix[x1][y0]\n",
    "        decryptedtext = decryptedtext + char1 + char2\n",
    "print(\"Decrypted text: \", decryptedtext.lower())"
   ]
  },
  {
   "cell_type": "markdown",
   "id": "c2356b68-6522-4975-a493-3e7262a51dac",
   "metadata": {},
   "source": [
    "# 5. Vigenere Cipher"
   ]
  },
  {
   "cell_type": "code",
   "execution_count": 14,
   "id": "340e5e5f-19e8-4a4e-8faf-7ade6415df91",
   "metadata": {},
   "outputs": [],
   "source": [
    "#Key Generation\n",
    "def key_generation(key):\n",
    "    key_len = len(key)\n",
    "    key_stream = [0]*key_len\n",
    "    key = key.lower()\n",
    "    for i in range(key_len):\n",
    "        order = ord(key[i]) - 97\n",
    "        key_stream[i] = order\n",
    "    return key_stream"
   ]
  },
  {
   "cell_type": "code",
   "execution_count": 15,
   "id": "ca0eaf53-a380-46a3-b430-ad15abdef94f",
   "metadata": {},
   "outputs": [],
   "source": [
    "#Encryption Function\n",
    "def encryption(plaintext, key_stream):\n",
    "    text = plaintext.lower()\n",
    "    key_size = len(key_stream)\n",
    "    ciphertext = \"\"\n",
    "    j = 0\n",
    "    for char in text:\n",
    "        order = ord(char)\n",
    "        if order>=97 and order<=122:\n",
    "            #Storing the key for current plaintext character\n",
    "            key = key_stream[j]\n",
    "            if j==(key_size-1): \n",
    "                j = 0\n",
    "            else: \n",
    "                j = j+1\n",
    "            #Calculating the ciphertext charater\n",
    "            order = order - 97\n",
    "            order = (order + key) % 26\n",
    "            order = order + 97\n",
    "            new_char = chr(order)\n",
    "            ciphertext = ciphertext + new_char\n",
    "        else:\n",
    "            ciphertext = ciphertext + char\n",
    "    return ciphertext"
   ]
  },
  {
   "cell_type": "code",
   "execution_count": 16,
   "id": "e1eb995c-963c-4157-ad5e-c3e69ca14831",
   "metadata": {},
   "outputs": [],
   "source": [
    "#Decryption Function\n",
    "def decryption(ciphertext, key_stream):\n",
    "    text = ciphertext.upper()\n",
    "    key_size = len(key_stream)\n",
    "    plaintext = \"\"\n",
    "    j = 0\n",
    "    for char in text:\n",
    "        order = ord(char)\n",
    "        if order>=65 and order<=90:\n",
    "            #Storing the key for current ciphertext character\n",
    "            key = key_stream[j]\n",
    "            if j==(key_size-1): \n",
    "                j = 0\n",
    "            else: \n",
    "                j = j+1\n",
    "            #Calculating the plaintext charater\n",
    "            order = order - 65\n",
    "            order = (order - key) % 26\n",
    "            order = order + 65\n",
    "            new_char = chr(order)\n",
    "            plaintext = plaintext + new_char\n",
    "        else:\n",
    "            plaintext = plaintext + char\n",
    "    return plaintext"
   ]
  },
  {
   "cell_type": "code",
   "execution_count": 17,
   "id": "93c464e8-313c-4915-bd67-4943595adef2",
   "metadata": {},
   "outputs": [
    {
     "name": "stdin",
     "output_type": "stream",
     "text": [
      "Enter the plaintext:  She is listening \n",
      "Enter the key:  PASCAl\n"
     ]
    },
    {
     "name": "stdout",
     "output_type": "stream",
     "text": [
      "Given Plaintext:  She is listening \n",
      "Entered key:  PASCAl\n",
      "Key Stream :  [15, 0, 18, 2, 0, 11]\n",
      "Ciphertext:  hhw ks wxslgntcg \n",
      "Decrypted text:  SHE IS LISTENING \n"
     ]
    }
   ],
   "source": [
    "#Input Section\n",
    "plaintext = input(\"Enter the plaintext: \")\n",
    "key = input(\"Enter the key: \")\n",
    "\n",
    "#Function Calling\n",
    "key_stream = key_generation(key)\n",
    "ciphertext = encryption(plaintext, key_stream)\n",
    "decrypted_text = decryption(ciphertext, key_stream)\n",
    "\n",
    "#Output Section\n",
    "print(\"Given Plaintext: \", plaintext)\n",
    "print(\"Entered key: \", key)\n",
    "print(\"Key Stream : \", key_stream)\n",
    "print(\"Ciphertext: \", ciphertext)\n",
    "print(\"Decrypted text: \", decrypted_text)"
   ]
  },
  {
   "cell_type": "markdown",
   "id": "852c2a4f-82b8-4697-82bf-6d501d72e865",
   "metadata": {},
   "source": [
    "# 6. DES "
   ]
  },
  {
   "cell_type": "code",
   "execution_count": 24,
   "id": "5a19fd3e-f904-4bb2-bba3-6686094d6c05",
   "metadata": {},
   "outputs": [
    {
     "name": "stdout",
     "output_type": "stream",
     "text": [
      "C:\\ProgramData\\anaconda3\\python.exe\n"
     ]
    }
   ],
   "source": [
    "import sys\n",
    "print(sys.executable)"
   ]
  },
  {
   "cell_type": "code",
   "execution_count": 25,
   "id": "1dca1743-4c62-48de-b3db-4a2af869e8de",
   "metadata": {},
   "outputs": [],
   "source": [
    "#Import the DES function from Crypto module\n",
    "import base64\n",
    "from Crypto.Cipher import DES"
   ]
  },
  {
   "cell_type": "code",
   "execution_count": 27,
   "id": "597d5743-bb4b-4da7-b6a8-e52682baca4f",
   "metadata": {},
   "outputs": [],
   "source": [
    "#This is the key for encryption\n",
    "key = 'hello123'"
   ]
  },
  {
   "cell_type": "code",
   "execution_count": 28,
   "id": "2f4e1a29-2767-4bb7-88d0-63d5b3e7e609",
   "metadata": {},
   "outputs": [],
   "source": [
    "# This function is for the adding extra text to the plaintext if it does not fill the block\n",
    "# The block size is 64bit\n",
    "def pad(text):\n",
    "    # DES Algorithm works with 8 byte thats why we divided it by 8.\n",
    "    # If the length of given text is multiple of 8 then exit form the while loop.\n",
    "    while len(text) % 8 != 0:\n",
    "        text = text + ' '\n",
    "    return text"
   ]
  },
  {
   "cell_type": "code",
   "execution_count": 29,
   "id": "b844a834-3b10-4f30-b1b2-208e9be73c5f",
   "metadata": {},
   "outputs": [],
   "source": [
    "# Create the object of the DES and pass the appropriate parameter.\n",
    "# Second parameter is the encryption mode . Several encryption mode are available.\n",
    "# 'utf-8' encode the string to bytes.As DES require the byte as parameter.\n",
    "des = DES.new(key.encode('utf-8'),DES.MODE_ECB)"
   ]
  },
  {
   "cell_type": "code",
   "execution_count": 36,
   "id": "7f312afe-b6ad-4526-95d1-bc871085329d",
   "metadata": {},
   "outputs": [],
   "source": [
    "text = 'Shehad Uj Jahan'\n",
    "padded_text = pad(text)"
   ]
  },
  {
   "cell_type": "code",
   "execution_count": 38,
   "id": "a0d0222c-7fca-4e6f-a7dd-5d5b11f7bca9",
   "metadata": {},
   "outputs": [],
   "source": [
    "# This encryption function is uesed to encrypt the message.\n",
    "encrypted_text = des.encrypt(padded_text.encode('utf-8'))"
   ]
  },
  {
   "cell_type": "code",
   "execution_count": 39,
   "id": "76afb64b-df34-4935-83cf-65d568125f52",
   "metadata": {},
   "outputs": [
    {
     "name": "stdout",
     "output_type": "stream",
     "text": [
      "The Encrypted text is : b'\\x90/\\x8d\\xce\\xb0\\x0c\\x80\\xf5)9\\x80\\x89\\x85\\x18\\n\\xd8'\n",
      "The ecnrypted text in character formate : b'kC+NzrAMgPUpOYCJhRgK2A=='\n"
     ]
    }
   ],
   "source": [
    "print(\"The Encrypted text is :\",encrypted_text)\n",
    "print(\"The ecnrypted text in character formate :\",base64.b64encode(encrypted_text))"
   ]
  },
  {
   "cell_type": "code",
   "execution_count": 40,
   "id": "a11c4193-8436-459c-8cab-de7ee3ae0360",
   "metadata": {},
   "outputs": [
    {
     "name": "stdout",
     "output_type": "stream",
     "text": [
      "The Encrypted text is : b'\\x90/\\x8d\\xce\\xb0\\x0c\\x80\\xf5)9\\x80\\x89\\x85\\x18\\n\\xd8'\n",
      "The encrypted text in character formate : b'kC+NzrAMgPUpOYCJhRgK2A=='\n"
     ]
    }
   ],
   "source": [
    "print(\"The Encrypted text is :\",encrypted_text)\n",
    "print(\"The encrypted text in character formate :\",base64.b64encode(encrypted_text))"
   ]
  },
  {
   "cell_type": "code",
   "execution_count": 41,
   "id": "19edddbb-ec7f-4825-a29c-36e3f3117e75",
   "metadata": {},
   "outputs": [],
   "source": [
    "# This decrypt function is used to decrypt the encrypted message.\n",
    "decrypted_text = des.decrypt(encrypted_text)"
   ]
  },
  {
   "cell_type": "code",
   "execution_count": 42,
   "id": "50c50879-5e52-449f-bda8-fd1aca18e5c9",
   "metadata": {},
   "outputs": [
    {
     "name": "stdout",
     "output_type": "stream",
     "text": [
      "The Decrypted text is : Shehad Uj Jahan \n"
     ]
    }
   ],
   "source": [
    "print(\"The Decrypted text is :\",decrypted_text.decode())"
   ]
  },
  {
   "cell_type": "markdown",
   "id": "ebc1d12b-a570-4b9d-aae9-3d9e71ff961a",
   "metadata": {},
   "source": [
    "# 7. AES"
   ]
  },
  {
   "cell_type": "code",
   "execution_count": 43,
   "id": "2d169d2f-b526-4b0a-94e8-17e029a03b69",
   "metadata": {},
   "outputs": [],
   "source": [
    "# A python code for encryption by using AES.\n",
    "import base64\n",
    "from Crypto.Cipher import AES\n",
    "from Crypto.Random import get_random_bytes"
   ]
  },
  {
   "cell_type": "code",
   "execution_count": 44,
   "id": "5179d332-739b-4863-a390-6ad42de2339d",
   "metadata": {},
   "outputs": [],
   "source": [
    "# Define the plaintext and key\n",
    "# A byte string, also known as a bytes literal, is a sequence of bytes.\n",
    "# It represents raw binary data and is generally used to handle non-textual or binary data, such as images, audio files, or network protocols.\n",
    "plaintext = b'This is a secret message'"
   ]
  },
  {
   "cell_type": "code",
   "execution_count": 45,
   "id": "e9ce2f1e-af16-4369-9009-174927affcf5",
   "metadata": {},
   "outputs": [],
   "source": [
    "# In Python, the get_random_bytes() function is typically provided by a cryptographic library, such as Crypto.Random from the pycryptodome library or secrets module from the standard library.\n",
    "# The get_random_bytes() function takes a parameter that specifies the desired length of the random byte string to generate.In this case, the parameter is 16, which corresponds to 16 bytes or 128 bits.\n",
    "key = get_random_bytes(16)"
   ]
  },
  {
   "cell_type": "code",
   "execution_count": 46,
   "id": "7cf336c6-f07c-4e43-a7a9-d403d9ea536e",
   "metadata": {},
   "outputs": [],
   "source": [
    "# Create an AES cipher object with a 128-bit key\n",
    "# This three parameter and last parameter which may vary from mode to mode.\n",
    "# If CRT Mode it must pass the initial vector counter(IV).\n",
    "cipher = AES.new(key, AES.MODE_EAX)  # (Authenticated Encryption with Associated Data, Xor)."
   ]
  },
  {
   "cell_type": "code",
   "execution_count": 47,
   "id": "c9cc1aa3-1bf5-46ac-9a88-e675d53f13e1",
   "metadata": {},
   "outputs": [],
   "source": [
    "# Encrypt the plaintext\n",
    "# The tag variable represents the authentication tag that is generated during the encryption process using an authenticated encryption mode like AES.MODE_EAX.\n",
    "# The authentication tag provides a unique identifier for the encrypted data, ensuring that it has not been tampered with or modified.\n",
    "# During decryption, the authentication tag is also recalculated based on the decrypted ciphertext, the secret key, and the associated data.\n",
    "# The calculated authentication tag is compared with the received authentication tag.\n",
    "# If the calculated tag matches the received tag, it indicates that the ciphertext has not been tampered with and is authentic. The receiver can trust the integrity of the decrypted data.\n",
    "ciphertext, tag = cipher.encrypt_and_digest(plaintext)"
   ]
  },
  {
   "cell_type": "code",
   "execution_count": 48,
   "id": "aa0012a7-0db6-47af-bacb-91601ba48ee1",
   "metadata": {},
   "outputs": [
    {
     "name": "stdout",
     "output_type": "stream",
     "text": [
      "Ciphertext: b'|y\\xd6\\x04z\\xe9\\xbc\\xbfl\\xea4i\\xdd\\x86\\x93\\x0f\\x1d\\xf7\\xb6\\xfaF&\\x80m'\n",
      "Ciphertext : b'fHnWBHrpvL9s6jRp3YaTDx33tvpGJoBt'\n",
      "Tag: b'\\xe1RD\\xb8\\x90\\xa1\\x0f\\x82H\\xbd\\xc7\\xf2\\xc1u\\x15\\r'\n"
     ]
    }
   ],
   "source": [
    "# Print the encrypted ciphertext and tag\n",
    "print(\"Ciphertext:\", ciphertext)\n",
    "print(\"Ciphertext :\",base64.b64encode(ciphertext))\n",
    "print(\"Tag:\", tag)"
   ]
  },
  {
   "cell_type": "code",
   "execution_count": 49,
   "id": "3fd5ac55-daa1-4dd7-8374-b6a703c4a4de",
   "metadata": {},
   "outputs": [],
   "source": [
    "# Create a new AES cipher object with the same key\n",
    "# The nonce (number used once) is a crucial component in symmetric key encryption algorithms, particularly in modes like AES.MODE_EAX.\n",
    "# It serves as an additional input to the encryption algorithm and helps ensure the uniqueness and security of the ciphertext produced.\n",
    "decrypt_cipher = AES.new(key, AES.MODE_EAX, nonce=cipher.nonce)"
   ]
  },
  {
   "cell_type": "code",
   "execution_count": 50,
   "id": "4413e9d9-700c-4688-862f-25431eff5fb4",
   "metadata": {},
   "outputs": [
    {
     "name": "stdout",
     "output_type": "stream",
     "text": [
      "Decrypted plaintext: This is a secret message\n"
     ]
    }
   ],
   "source": [
    "# Decrypt the ciphertext\n",
    "decrypted_plaintext = decrypt_cipher.decrypt_and_verify(ciphertext, tag)\n",
    "\n",
    "# Print the decrypted plaintext\n",
    "print(\"Decrypted plaintext:\", decrypted_plaintext.decode())"
   ]
  },
  {
   "cell_type": "markdown",
   "id": "362ab018-8b42-439c-9d61-e0a120b171dc",
   "metadata": {},
   "source": [
    "# 8. RSA Alogorithm"
   ]
  },
  {
   "cell_type": "code",
   "execution_count": 51,
   "id": "13d3229f-f4a5-4df8-8be7-5eaeb9c8ce28",
   "metadata": {},
   "outputs": [],
   "source": [
    "#A Python Code for Encryption Using RSA Algorithm\n",
    "from Crypto.PublicKey import RSA\n",
    "from Crypto.Cipher import PKCS1_OAEP"
   ]
  },
  {
   "cell_type": "code",
   "execution_count": 52,
   "id": "be99bcc5-be61-4cc1-bf24-b4a744183dea",
   "metadata": {},
   "outputs": [],
   "source": [
    "#Function for generating public and private key\n",
    "def generate_key_pair():\n",
    "    key = RSA.generate(2048)\n",
    "    public_key = key.publickey().export_key()\n",
    "    private_key = key.export_key()\n",
    "    return public_key, private_key"
   ]
  },
  {
   "cell_type": "code",
   "execution_count": 53,
   "id": "3e8c18de-bf61-4b06-be0b-ad9b53df9b89",
   "metadata": {},
   "outputs": [],
   "source": [
    "#Encryption Function\n",
    "def encrypt(message, public_key):\n",
    "    cipher = PKCS1_OAEP.new(RSA.import_key(public_key))\n",
    "    encrypted_message = cipher.encrypt(message)\n",
    "    return encrypted_message"
   ]
  },
  {
   "cell_type": "code",
   "execution_count": 54,
   "id": "131ad2a8-f090-41eb-bf1d-ef0baf2912bc",
   "metadata": {},
   "outputs": [],
   "source": [
    "#Decryption Function\n",
    "def decrypt(encrypted_message, private_key):\n",
    "    cipher = PKCS1_OAEP.new(RSA.import_key(private_key))\n",
    "    decrypted_message = cipher.decrypt(encrypted_message)\n",
    "    return decrypted_message"
   ]
  },
  {
   "cell_type": "code",
   "execution_count": 56,
   "id": "342ef0c1-fd81-44c2-b4e6-51654f2d664e",
   "metadata": {},
   "outputs": [
    {
     "name": "stdout",
     "output_type": "stream",
     "text": [
      "Plaintext: b'This is a secret message from Shehad'\n",
      "----output----\n",
      "Encrypted message: b2661c5dfbf76627667a363023100e82bd893969c2692b4b7d177e1ed80039c618af07fbbc4c7673f27dace261a88c3f7b6e4b209ff941fbf384e6d05d3035e1446950bca68aeba99b78e09eb988f9560ecda294afb6842c379f3ab2585f3f003f1d27faf50e16f74589387a81323abe261988dcc2823b90303ba7641cfa48ccb37c190d598823e4551863b41b10e64d0ffc2af5108fe930ab996a2cab836e999a6346ed8dc45258d98761cd0dff5641a5dbc8dd3805d52d83826384d5674b38ac3a8a7430c68da22d8b3a5fc2f21a69e8bb6fe69f53ccc3f745c9df545e3fb7192825042b3bd151c9f5793d5a3bcc7808ee441e56ce238b33663b1bf5f65f1a\n",
      "Decrypted message: This is a secret message from Shehad\n"
     ]
    }
   ],
   "source": [
    "# Example usage\n",
    "plaintext = b\"This is a secret message from Shehad\"\n",
    "print(\"Plaintext:\", plaintext)\n",
    "print(\"----output----\")\n",
    "# Generate key pair\n",
    "public_key, private_key = generate_key_pair()\n",
    "# Encrypt the message\n",
    "encrypted_message = encrypt(plaintext, public_key)\n",
    "print(\"Encrypted message:\", encrypted_message.hex())\n",
    "# Decrypt the message\n",
    "decrypted_message = decrypt(encrypted_message, private_key)\n",
    "print(\"Decrypted message:\", decrypted_message.decode())"
   ]
  },
  {
   "cell_type": "markdown",
   "id": "7f145841-0605-4fea-8fed-c4eecc9d0c14",
   "metadata": {},
   "source": [
    "# 9. ElGlamal Cryptography"
   ]
  },
  {
   "cell_type": "code",
   "execution_count": 57,
   "id": "296f856f-2011-40ec-92da-ccfca613894f",
   "metadata": {},
   "outputs": [],
   "source": [
    "# Sympy is a Python library for symbolic mathematics.\n",
    "from sympy import primitive_root,randprime\n",
    "import random"
   ]
  },
  {
   "cell_type": "code",
   "execution_count": 58,
   "id": "7e87d760-bbf9-4ee8-b957-24157ddbf31d",
   "metadata": {},
   "outputs": [],
   "source": [
    "# The number for which you want to find the primitive root\n",
    "prime = randprime(124,10**3)\n",
    "root = primitive_root(prime)"
   ]
  },
  {
   "cell_type": "code",
   "execution_count": 59,
   "id": "9756d429-825b-4ea7-a758-ae3eaa35dd72",
   "metadata": {},
   "outputs": [],
   "source": [
    "d=random.randint(1,(prime-2)) # It is private key."
   ]
  },
  {
   "cell_type": "code",
   "execution_count": 60,
   "id": "19dcd3f5-2570-406c-a16c-85d53e12b712",
   "metadata": {},
   "outputs": [],
   "source": [
    "e=(pow(root,d)%prime)  # It is public key.\n",
    "r=random.randint(1,10)  # Select a random integer."
   ]
  },
  {
   "cell_type": "code",
   "execution_count": 61,
   "id": "9f75e6b1-46a5-409d-b731-3b609d019d8e",
   "metadata": {},
   "outputs": [],
   "source": [
    "#Define the plaintext.\n",
    "plaintext = \"This is a secret message\""
   ]
  },
  {
   "cell_type": "code",
   "execution_count": 62,
   "id": "18ffae28-edfa-4ba0-8b70-dce172130930",
   "metadata": {},
   "outputs": [
    {
     "name": "stdout",
     "output_type": "stream",
     "text": [
      "[(229, 96), (229, 235), (229, 120), (229, 54), (229, 114), (229, 120), (229, 54), (229, 114), (229, 227), (229, 114), (229, 54), (229, 38), (229, 268), (229, 169), (229, 38), (229, 210), (229, 114), (229, 202), (229, 38), (229, 54), (229, 54), (229, 227), (229, 79), (229, 38)]\n"
     ]
    }
   ],
   "source": [
    "# Encryption Algorithm.\n",
    "ciphertext=[]\n",
    "for char in plaintext:\n",
    "  ciphertext1=(pow(root,r)%prime)\n",
    "  ciphertext2=((ord(char)*pow(e,r))%prime)\n",
    "  ciphertext.append((ciphertext1,ciphertext2))\n",
    "print(ciphertext)"
   ]
  },
  {
   "cell_type": "code",
   "execution_count": 63,
   "id": "73ec9ea1-1744-4ca2-9689-dcf9fc91b804",
   "metadata": {},
   "outputs": [
    {
     "name": "stdout",
     "output_type": "stream",
     "text": [
      "This is a secret message\n"
     ]
    }
   ],
   "source": [
    "#Decryption Algorithm\n",
    "plaintext=\"\"\n",
    "for pair in ciphertext:\n",
    "  ciphertext1,ciphertext2=pair\n",
    "  value=pow(ciphertext1,d)\n",
    "  multinv = pow(value,-1,prime)\n",
    "  decrypt_char = (ciphertext2*multinv) % prime\n",
    "  plaintext += chr(decrypt_char)\n",
    "print(plaintext)"
   ]
  },
  {
   "cell_type": "markdown",
   "id": "bec4093c-0604-464b-a187-29a76d8cbfe7",
   "metadata": {},
   "source": [
    "# 10. Rabin Cryptography"
   ]
  },
  {
   "cell_type": "code",
   "execution_count": 64,
   "id": "1c620935-7aa6-41d7-a68a-9d1805d132e0",
   "metadata": {},
   "outputs": [
    {
     "name": "stdout",
     "output_type": "stream",
     "text": [
      "Public key (n): 77, Private keys (p, q): (7, 11)\n",
      "Original message: 5\n",
      "Encrypted message (ciphertext): 25\n",
      "Decrypted possible messages: (16, 61, 72, 5)\n"
     ]
    }
   ],
   "source": [
    "# Helper function: Extended Euclidean Algorithm to find the modular inverse\n",
    "def extended_gcd(a, b):\n",
    "    if b == 0:\n",
    "        return a, 1, 0\n",
    "    gcd, x1, y1 = extended_gcd(b, a % b)\n",
    "    x = y1\n",
    "    y = x1 - (a // b) * y1\n",
    "    return gcd, x, y\n",
    "\n",
    "def mod_inverse(a, m):\n",
    "    gcd, x, _ = extended_gcd(a, m)\n",
    "    if gcd != 1:\n",
    "        raise ValueError(\"Modular inverse does not exist\")\n",
    "    else:\n",
    "        return x % m\n",
    "\n",
    "# Helper function: Modular Exponentiation\n",
    "def mod_exp(base, exp, mod):\n",
    "    result = 1\n",
    "    base = base % mod\n",
    "    while exp > 0:\n",
    "        if (exp % 2) == 1:  # If exp is odd, multiply base with result\n",
    "            result = (result * base) % mod\n",
    "        exp = exp >> 1  # Divide the exponent by 2\n",
    "        base = (base * base) % mod  # Square the base\n",
    "    return result\n",
    "\n",
    "# Step 1: Key Generation\n",
    "def generate_keys():\n",
    "    # Prime numbers p and q (small values for simplicity, use larger primes in real-world use)\n",
    "    p = 7\n",
    "    q = 11\n",
    "    n = p * q\n",
    "    return p, q, n\n",
    "\n",
    "# Step 2: Encryption (Public key is n, plaintext is m)\n",
    "def encrypt(m, n):\n",
    "    return mod_exp(m, 2, n)\n",
    "\n",
    "# Step 3: Decryption (Private keys are p, q)\n",
    "def decrypt(c, p, q, n):\n",
    "    # Compute square roots modulo p and q\n",
    "    mp = mod_exp(c, (p + 1) // 4, p)\n",
    "    mq = mod_exp(c, (q + 1) // 4, q)\n",
    "    # Use Chinese Remainder Theorem to get four possible plaintexts\n",
    "    inv_q = mod_inverse(q, p)\n",
    "    inv_p = mod_inverse(p, q)\n",
    "    \n",
    "    x1 = (mp * q * inv_q + mq * p * inv_p) % n\n",
    "    x2 = (mp * q * inv_q - mq * p * inv_p) % n\n",
    "    # Return the four possible solutions\n",
    "    return x1, n - x1, x2, n - x2\n",
    "\n",
    "# Example Usage\n",
    "if __name__ == \"__main__\":\n",
    "    # Generate keys\n",
    "    p, q, n = generate_keys()\n",
    "    print(f\"Public key (n): {n}, Private keys (p, q): ({p}, {q})\")\n",
    "    \n",
    "    # Sample message (must be smaller than n)\n",
    "    m = 5\n",
    "    print(f\"Original message: {m}\")\n",
    "    \n",
    "    # Encrypt the message\n",
    "    c = encrypt(m, n)\n",
    "    print(f\"Encrypted message (ciphertext): {c}\")\n",
    "    \n",
    "    # Decrypt the ciphertext\n",
    "    possible_messages = decrypt(c, p, q, n)\n",
    "    print(f\"Decrypted possible messages: {possible_messages}\")\n"
   ]
  },
  {
   "cell_type": "markdown",
   "id": "604efeb9-d260-452f-a5a8-24f6291ecf32",
   "metadata": {},
   "source": [
    "# 11. Hill Cipher"
   ]
  },
  {
   "cell_type": "code",
   "execution_count": 65,
   "id": "a893bcb7-fe0f-4bda-b537-4232b55e4ac9",
   "metadata": {},
   "outputs": [],
   "source": [
    "import numpy as np\n",
    "#Define the key matrix\n",
    "key_matrix = np.array(\n",
    "    [\n",
    "        [9, 7, 11, 13],\n",
    "        [4, 7, 5, 6],\n",
    "        [2, 21, 14, 9],\n",
    "        [3, 23, 21, 8]\n",
    "    ]\n",
    ")\n",
    "#Finding inverse of the key matrix\n",
    "det = int(np.round(np.linalg.det(key_matrix)))\n",
    "det_inv = pow(det, -1, 26)\n",
    "inv_key_matrix = det_inv * (np.round(det*np.linalg.inv(key_matrix)).astype(int)) %26"
   ]
  },
  {
   "cell_type": "code",
   "execution_count": 66,
   "id": "f24bfd4b-020f-42ed-8cdc-12bdbeb97f05",
   "metadata": {},
   "outputs": [
    {
     "name": "stdin",
     "output_type": "stream",
     "text": [
      "Enter the plaintext:  PAYMOREMONEYNOWX\n"
     ]
    },
    {
     "name": "stdout",
     "output_type": "stream",
     "text": [
      "PAYMOREMONEYNOWX\n",
      "Plaintext array of numerical values: \n",
      " [[15  0 24 12]\n",
      " [14 17  4 12]\n",
      " [14 13  4 24]\n",
      " [13 14 22 23]]\n"
     ]
    }
   ],
   "source": [
    "#Input section\n",
    "plaintext = input(\"Enter the plaintext: \")\n",
    "text = plaintext.replace(\" \",\"\")\n",
    "text_len = len(text)\n",
    "key_len = len(key_matrix)\n",
    "text = text.upper()\n",
    "\n",
    "#Add extra character if required\n",
    "if (text_len % key_len) !=0:\n",
    "    extra = key_len - (text_len % key_len)\n",
    "    for i in range (extra):\n",
    "        text = text + \"X\"\n",
    "print(text)\n",
    "\n",
    "#Create plaintext array\n",
    "text_len = len(text)\n",
    "text_array = np.zeros(text_len, dtype=int)\n",
    "\n",
    "i = 0\n",
    "for char in text:\n",
    "    value = ord(char) - 65\n",
    "    text_array[i] = value\n",
    "    i = i + 1\n",
    "    \n",
    "column = len(key_matrix)\n",
    "row =  len(text_array)//column\n",
    "#Reshaping the array\n",
    "text_array = text_array.reshape(row, column)\n",
    "print(\"Plaintext array of numerical values: \\n\",text_array)\n"
   ]
  },
  {
   "cell_type": "code",
   "execution_count": 67,
   "id": "fffa32a0-387f-4f33-af4d-d51f0d3db686",
   "metadata": {},
   "outputs": [
    {
     "name": "stdout",
     "output_type": "stream",
     "text": [
      "Ciphertext:  lbznefbaytzuakql\n",
      "Decrypted plaintext:  paymoremoneynowx\n"
     ]
    }
   ],
   "source": [
    "#Encryption Section\n",
    "cipher_array = np.dot(text_array, key_matrix)%26\n",
    "ciphertext = \"\"\n",
    "for i in range(row):\n",
    "    for j in range(column):\n",
    "        char = chr(cipher_array[i][j]+97)\n",
    "        ciphertext = ciphertext + char\n",
    "print(\"Ciphertext: \",ciphertext)\n",
    "\n",
    "#Decryption Section\n",
    "decrypted_array = np.dot(cipher_array, inv_key_matrix)%26\n",
    "decrypted_text = \"\"\n",
    "for i in range(row):\n",
    "    for j in range(column):\n",
    "        char = chr(decrypted_array[i][j]+97)\n",
    "        decrypted_text = decrypted_text + char\n",
    "print(\"Decrypted plaintext: \",decrypted_text)"
   ]
  },
  {
   "cell_type": "markdown",
   "id": "fac354f9-7bc5-49a6-8131-b968b11535a4",
   "metadata": {},
   "source": [
    "# 12. Keyless Transposition "
   ]
  },
  {
   "cell_type": "code",
   "execution_count": 68,
   "id": "d3d20bed-6a3c-43d0-9c27-ef9e323bb869",
   "metadata": {},
   "outputs": [
    {
     "name": "stdin",
     "output_type": "stream",
     "text": [
      "Enter the plantext:  Paymoremoney\n",
      "Enter the number of columns:  3\n"
     ]
    },
    {
     "name": "stdout",
     "output_type": "stream",
     "text": [
      "Ciphertext:  PMENAOMEYROY\n",
      "PAYMOREMONEY\n"
     ]
    }
   ],
   "source": [
    "import numpy as np\n",
    "\n",
    "#Input section\n",
    "plaintext = input(\"Enter the plantext: \")\n",
    "plaintext = plaintext.replace(\" \",\"\")\n",
    "plaintext = plaintext.upper()\n",
    "column = int(input(\"Enter the number of columns: \"))\n",
    "\n",
    "#Add extra characters if necessary\n",
    "if (len(plaintext) % column) != 0:\n",
    "    extra = column - (len(plaintext) % column)\n",
    "    for i in range(extra):\n",
    "        plaintext = plaintext + \"X\"\n",
    "\n",
    "#Encryption Section\n",
    "row = len(plaintext)//column\n",
    "table = np.array([[\"Z\"]*column]*row)\n",
    "index = 0\n",
    "for i in range(row):\n",
    "    for j in range(column):\n",
    "        table[i][j] = plaintext[index]\n",
    "        index = index + 1 \n",
    "\n",
    "ciphertext = \"\"\n",
    "transpose_table = np.transpose(table)\n",
    "for i in range(column):\n",
    "    for j in range(row):\n",
    "        ciphertext = ciphertext + transpose_table[i][j]\n",
    "\n",
    "print(\"Ciphertext: \", ciphertext)\n",
    "\n",
    "#Decryption Section\n",
    "cipher_table = np.array([[\"Z\"]*row]*column)\n",
    "index = 0\n",
    "for i in range(column):\n",
    "    for j in range(row):\n",
    "        cipher_table[i][j] = ciphertext[index]\n",
    "        index = index + 1\n",
    "\n",
    "decrypted_text = \"\"\n",
    "transpose_cipher_table = np.transpose(cipher_table)\n",
    "for i in range (row):\n",
    "    for j in range(column):\n",
    "        decrypted_text = decrypted_text + transpose_cipher_table[i][j]\n",
    "        \n",
    "print(decrypted_text)"
   ]
  },
  {
   "cell_type": "markdown",
   "id": "39a01204-05bf-42c8-99bf-b6138d815827",
   "metadata": {},
   "source": [
    "# 13. Autokey Cipher"
   ]
  },
  {
   "cell_type": "code",
   "execution_count": 69,
   "id": "f119c5a0-3f87-47ee-9e06-4736624ae8fa",
   "metadata": {},
   "outputs": [],
   "source": [
    "#Key generation\n",
    "#It returns the key stream as a list of the key and integer values of plaintext characters\n",
    "def key_generation(key, plaintext):\n",
    "    text_len = len(plaintext)\n",
    "    key_stream = [key]*text_len\n",
    "    text = plaintext.lower()\n",
    "    i = 1\n",
    "    for char in text:\n",
    "        order = ord(char)\n",
    "        if order>=65 and order<=90:\n",
    "            order = order - 65\n",
    "            key_stream[i] = order\n",
    "            i = i + 1\n",
    "    return key_stream"
   ]
  },
  {
   "cell_type": "code",
   "execution_count": 70,
   "id": "c2ae9e2d-ffac-4434-9d0e-6be408afc112",
   "metadata": {},
   "outputs": [],
   "source": [
    "#Encryption Function\n",
    "def encryption(plaintext, key_stream):\n",
    "    text = plaintext.lower()\n",
    "    text_len = len(text)\n",
    "    ciphertext = \"\"\n",
    "    j = 0\n",
    "    for i in range (text_len):\n",
    "        order = ord(text[i])\n",
    "        if order>=97 and order<=122:\n",
    "            key1 = key_stream[j]\n",
    "            j = j + 1\n",
    "            order = order - 97\n",
    "            order = (order + key1) % 26\n",
    "            order = order + 97\n",
    "            new_char = chr(order)\n",
    "            ciphertext = ciphertext + new_char\n",
    "        else:\n",
    "            ciphertext = ciphertext + text[i]\n",
    "    return ciphertext"
   ]
  },
  {
   "cell_type": "code",
   "execution_count": 71,
   "id": "db723e49-098f-405f-973c-39998d888689",
   "metadata": {},
   "outputs": [],
   "source": [
    "#Decryption Function\n",
    "def decryption(ciphertext, key_stream):\n",
    "    text = ciphertext.upper()\n",
    "    text_len = len(text)\n",
    "    plaintext = \"\"\n",
    "    j = 0\n",
    "    for i in range (text_len):\n",
    "        order = ord(text[i])\n",
    "        #Range for uppercase letter is 65 to 90\n",
    "        if order>=65 and order<=90:\n",
    "            key1 = key_stream[j]\n",
    "            j = j + 1\n",
    "            order = order - 65\n",
    "            order = (order - key1) % 26\n",
    "            order = order + 65\n",
    "            new_char = chr(order)\n",
    "            plaintext = plaintext + new_char\n",
    "        else:\n",
    "            plaintext = plaintext + text[i]\n",
    "    return plaintext"
   ]
  },
  {
   "cell_type": "code",
   "execution_count": 72,
   "id": "f5517eb5-91ce-44a2-a762-9e805e59178c",
   "metadata": {},
   "outputs": [
    {
     "name": "stdin",
     "output_type": "stream",
     "text": [
      "Enter the plaintext :  Shehad Uj Jahan\n",
      "Enter the key :  12\n"
     ]
    },
    {
     "name": "stdout",
     "output_type": "stream",
     "text": [
      "Entered plaintext :  Shehad Uj Jahan\n",
      "Entered key :  12\n",
      "Ciphertext :  etqtmp gv vmtmz\n",
      "Decrypted text :  SHEHAD UJ JAHAN\n"
     ]
    }
   ],
   "source": [
    "#Input Section\n",
    "plaintext = input(\"Enter the plaintext : \")\n",
    "key = int(input(\"Enter the key : \"))\n",
    "\n",
    "#Function Calling\n",
    "key_stream = key_generation(key, plaintext)\n",
    "ciphertext = encryption(plaintext, key_stream)\n",
    "decrypted_text = decryption(ciphertext, key_stream)\n",
    "\n",
    "#Output Section\n",
    "print(\"Entered plaintext : \", plaintext)\n",
    "print(\"Entered key : \", key)\n",
    "print(\"Ciphertext : \", ciphertext)\n",
    "print(\"Decrypted text : \", decrypted_text)"
   ]
  },
  {
   "cell_type": "code",
   "execution_count": null,
   "id": "f7b0148a-702a-46ca-a72f-96b1a119dce2",
   "metadata": {},
   "outputs": [],
   "source": []
  }
 ],
 "metadata": {
  "kernelspec": {
   "display_name": "Python 3 (ipykernel)",
   "language": "python",
   "name": "python3"
  },
  "language_info": {
   "codemirror_mode": {
    "name": "ipython",
    "version": 3
   },
   "file_extension": ".py",
   "mimetype": "text/x-python",
   "name": "python",
   "nbconvert_exporter": "python",
   "pygments_lexer": "ipython3",
   "version": "3.11.7"
  }
 },
 "nbformat": 4,
 "nbformat_minor": 5
}
