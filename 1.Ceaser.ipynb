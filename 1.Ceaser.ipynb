{
 "cells": [
  {
   "cell_type": "code",
   "execution_count": 1,
   "metadata": {},
   "outputs": [],
   "source": [
    "#Encryption Function\n",
    "def encrypt(plaintext,key):\n",
    "    plaintext = plaintext.upper()\n",
    "    ciphertext = \"\"\n",
    "    for i in range(len(plaintext)):\n",
    "        char = plaintext[i]\n",
    "        if char == ' ':\n",
    "            shifted_char = char\n",
    "        else:\n",
    "            shifted_char = chr((ord(char) - 65 + key) % 26)\n",
    "            shifted_char = chr(ord(shifted_char) + 65)\n",
    "        ciphertext = ciphertext + shifted_char\n",
    "    return ciphertext"
   ]
  },
  {
   "cell_type": "code",
   "execution_count": 2,
   "metadata": {},
   "outputs": [],
   "source": [
    "#Decryption Function\n",
    "def decrypt(ciphertext,key):\n",
    "    ciphertext = ciphertext.lower()\n",
    "    decrypted_text = \"\"\n",
    "    for i in range(len(ciphertext)):\n",
    "        char = ciphertext[i]\n",
    "        if char == ' ':\n",
    "            shifted_char = char\n",
    "        else:\n",
    "            shifted_char = chr((ord(char) - 97 - key) % 26)\n",
    "            shifted_char = chr(ord(shifted_char) + 97)\n",
    "        decrypted_text = decrypted_text + shifted_char\n",
    "    return decrypted_text"
   ]
  },
  {
   "cell_type": "code",
   "execution_count": 3,
   "metadata": {},
   "outputs": [
    {
     "name": "stdin",
     "output_type": "stream",
     "text": [
      "Enter the plaintext:  shehad\n"
     ]
    },
    {
     "name": "stdout",
     "output_type": "stream",
     "text": [
      "Entered plaintext = shehad\n"
     ]
    },
    {
     "name": "stdin",
     "output_type": "stream",
     "text": [
      "Enter the key:  3\n"
     ]
    },
    {
     "name": "stdout",
     "output_type": "stream",
     "text": [
      "Entered key = 3\n",
      "Ciphertext = VKHKDG\n",
      "Decrypted text = shehad\n"
     ]
    }
   ],
   "source": [
    "#Input\n",
    "plaintext = input(\"Enter the plaintext: \")\n",
    "print(\"Entered plaintext = \" + plaintext)\n",
    "key = int(input(\"Enter the key: \"))\n",
    "print(\"Entered key = \" + str(key))\n",
    "#Output\n",
    "ciphertext = encrypt(plaintext, key)\n",
    "print(\"Ciphertext = \" + ciphertext)\n",
    "decrypted_text = decrypt(ciphertext, key)\n",
    "print(\"Decrypted text = \" + decrypted_text)"
   ]
  },
  {
   "cell_type": "code",
   "execution_count": null,
   "metadata": {},
   "outputs": [],
   "source": []
  }
 ],
 "metadata": {
  "kernelspec": {
   "display_name": "Python 3 (ipykernel)",
   "language": "python",
   "name": "python3"
  },
  "language_info": {
   "codemirror_mode": {
    "name": "ipython",
    "version": 3
   },
   "file_extension": ".py",
   "mimetype": "text/x-python",
   "name": "python",
   "nbconvert_exporter": "python",
   "pygments_lexer": "ipython3",
   "version": "3.11.7"
  }
 },
 "nbformat": 4,
 "nbformat_minor": 4
}
