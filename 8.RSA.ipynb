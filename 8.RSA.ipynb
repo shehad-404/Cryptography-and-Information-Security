{
 "cells": [
  {
   "cell_type": "code",
   "execution_count": 1,
   "metadata": {
    "colab": {
     "base_uri": "https://localhost:8080/"
    },
    "id": "X5nrOYEcpHrz",
    "outputId": "bbf181b9-a96a-47a6-8edc-a2dc01a2015f"
   },
   "outputs": [],
   "source": [
    "#A Python Code for Encryption Using RSA Algorithm\n",
    "from Crypto.PublicKey import RSA\n",
    "from Crypto.Cipher import PKCS1_OAEP\n"
   ]
  },
  {
   "cell_type": "code",
   "execution_count": 2,
   "metadata": {},
   "outputs": [],
   "source": [
    "#Function for generating public and private key\n",
    "def generate_key_pair():\n",
    "    key = RSA.generate(2048)\n",
    "    public_key = key.publickey().export_key()\n",
    "    private_key = key.export_key()\n",
    "    return public_key, private_key"
   ]
  },
  {
   "cell_type": "code",
   "execution_count": 3,
   "metadata": {},
   "outputs": [],
   "source": [
    "#Encryption Function\n",
    "def encrypt(message, public_key):\n",
    "    cipher = PKCS1_OAEP.new(RSA.import_key(public_key))\n",
    "    encrypted_message = cipher.encrypt(message)\n",
    "    return encrypted_message"
   ]
  },
  {
   "cell_type": "code",
   "execution_count": 4,
   "metadata": {},
   "outputs": [],
   "source": [
    "#Decryption Function\n",
    "def decrypt(encrypted_message, private_key):\n",
    "    cipher = PKCS1_OAEP.new(RSA.import_key(private_key))\n",
    "    decrypted_message = cipher.decrypt(encrypted_message)\n",
    "    return decrypted_message"
   ]
  },
  {
   "cell_type": "code",
   "execution_count": 5,
   "metadata": {},
   "outputs": [
    {
     "name": "stdout",
     "output_type": "stream",
     "text": [
      "Plaintext: b'Shehad from Jagannath University, CSE Department'\n",
      "----output----\n",
      "Encrypted message: 38c9821b3c2f768c540b10964c3d2e95d334de12696fd106a1cfba5c319dab3bafc60e6c30da28bd8170ad179237011f614973a3913611fc224ce6cd148033fa07ce95309327a505de2ba9f6a34cea89badc43622511942b5c29a0b6a85e2f6d738f50dfb4c9afa7515e8a8742a94e5ba5e4af5b17a51cbf5dd05d44469f3584d2b8d1b08f6744e91357b385a34d1f93573c90a769565d4f33d91357403f6929659bf82345bf508499490a7af6f06edc749bc901323dd559f38ba7042b791e7203ef6a198727c9bd6a35f7ea89b42494a401fac0b2264fc86f60e6e64200b97976146ce238b06a8b5f1fa959027463190be5ffe19b8e18dc46de70ee009ab1ed\n",
      "Decrypted message: Shehad from Jagannath University, CSE Department\n"
     ]
    }
   ],
   "source": [
    "# Example usage\n",
    "plaintext = b\"Shehad from Jagannath University, CSE Department\"\n",
    "print(\"Plaintext:\", plaintext)\n",
    "print(\"----output----\")\n",
    "# Generate key pair\n",
    "public_key, private_key = generate_key_pair()\n",
    "# Encrypt the message\n",
    "encrypted_message = encrypt(plaintext, public_key)\n",
    "print(\"Encrypted message:\", encrypted_message.hex())\n",
    "# Decrypt the message\n",
    "decrypted_message = decrypt(encrypted_message, private_key)\n",
    "print(\"Decrypted message:\", decrypted_message.decode())"
   ]
  },
  {
   "cell_type": "code",
   "execution_count": null,
   "metadata": {},
   "outputs": [],
   "source": []
  }
 ],
 "metadata": {
  "colab": {
   "provenance": []
  },
  "kernelspec": {
   "display_name": "Python 3 (ipykernel)",
   "language": "python",
   "name": "python3"
  },
  "language_info": {
   "codemirror_mode": {
    "name": "ipython",
    "version": 3
   },
   "file_extension": ".py",
   "mimetype": "text/x-python",
   "name": "python",
   "nbconvert_exporter": "python",
   "pygments_lexer": "ipython3",
   "version": "3.11.7"
  }
 },
 "nbformat": 4,
 "nbformat_minor": 4
}
